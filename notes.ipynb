{
 "cells": [
  {
   "cell_type": "markdown",
   "metadata": {},
   "source": [
    "# Planes"
   ]
  },
  {
   "cell_type": "markdown",
   "metadata": {},
   "source": [
    "A plane is an ordered pair $\\pi=(S,\\mathcal L)$ where $S$ is a finite set whose elements are called points and $\\mathcal L\\subseteq\\mathcal P(S)$ is a collection of subsets of $S$ which are called lines. If $l$ and $m$ are lines on the plane $\\pi$ then we say $l$ and $m$ are parallel if $l=m$ or $l\\cap m$ is empty.\n",
    "$$l\\parallel m\\iff l=m\\text{ or }l\\cap m=\\emptyset$$"
   ]
  },
  {
   "cell_type": "code",
   "execution_count": 56,
   "metadata": {},
   "outputs": [],
   "source": [
    "def areParallel(l1, l2):\n",
    "    if l1 == l2:\n",
    "        return True\n",
    "    elif len(set(l1) & set(l2)) == 0:\n",
    "        return True\n",
    "    else:\n",
    "        return False"
   ]
  },
  {
   "cell_type": "markdown",
   "metadata": {},
   "source": [
    "The relation of parallelism forms an equivalence class on the set of lines. Thus, for each line $l\\in\\mathcal L$ we may consider the parallel class $[l]\\subseteq\\mathcal L$ of all lines which are parallel to $l$.\n",
    "$$[l]=\\{m\\in\\mathcal L:m\\parallel l\\}$$"
   ]
  },
  {
   "cell_type": "code",
   "execution_count": 172,
   "metadata": {},
   "outputs": [],
   "source": [
    "def parallelClass(L, l):\n",
    "    return [m for m in L if areParallel(m, l)]"
   ]
  },
  {
   "cell_type": "markdown",
   "metadata": {},
   "source": [
    "# Affine planes"
   ]
  },
  {
   "cell_type": "markdown",
   "metadata": {},
   "source": [
    "An affine plane is a plane $\\pi=(S,\\mathcal L)$ which satisfies three axioms:\n",
    "\n",
    "A1. For every distinct pair of points $A$ and $B$ in $S$, there exists exactly one line $l$ passing through the points $A$ and $B$. This line is unique and it is denoted $AB$.\n",
    "    \n",
    "A2. For every line $l\\in\\mathcal L$ and every point $P\\in S$ lying off the line $P\\notin l$, there exists exactly one line $m\\in\\mathcal L$ containing $P\\in m$ which is parallel to $l\\parallel m$.\n",
    "    \n",
    "A3. There exist three noncollinear points"
   ]
  },
  {
   "cell_type": "code",
   "execution_count": 18,
   "metadata": {},
   "outputs": [],
   "source": [
    "def affineAxiom1(S, L):\n",
    "    for A in S:\n",
    "        for B in S:\n",
    "            if A != B:\n",
    "                I = [l for l in L if A in l and B in l]\n",
    "                if len(I) != 1:\n",
    "                    return False\n",
    "    return True"
   ]
  },
  {
   "cell_type": "code",
   "execution_count": 19,
   "metadata": {},
   "outputs": [],
   "source": [
    "def affineAxiom2(S, L):\n",
    "    for l in L:\n",
    "        for A in S:\n",
    "            if not A in l:\n",
    "                M = [m for m in L if A in m and areParallel(l, m)]\n",
    "                if len(M) != 1:\n",
    "                    return False\n",
    "    return True"
   ]
  },
  {
   "cell_type": "code",
   "execution_count": 38,
   "metadata": {},
   "outputs": [],
   "source": [
    "def affineAxiom3(S, L):\n",
    "    for A in S:\n",
    "        for B in S:\n",
    "            for C in S:\n",
    "                for l in L:\n",
    "                    if A in l and B in l and not C in l:\n",
    "                        return True\n",
    "    return False"
   ]
  },
  {
   "cell_type": "code",
   "execution_count": 27,
   "metadata": {},
   "outputs": [],
   "source": [
    "def isAffinePlane(S, L):\n",
    "    if affineAxiom1(S, L) and affineAxiom2(S, L) and affineAxiom3(S, L):\n",
    "        return True\n",
    "    else:\n",
    "        return False"
   ]
  },
  {
   "cell_type": "markdown",
   "metadata": {},
   "source": [
    "The smallest affine plane corresponds to the complete graph on four vertices $K_4$."
   ]
  },
  {
   "cell_type": "code",
   "execution_count": 164,
   "metadata": {},
   "outputs": [],
   "source": [
    "S = [1, 2, 3, 4]"
   ]
  },
  {
   "cell_type": "code",
   "execution_count": 165,
   "metadata": {},
   "outputs": [],
   "source": [
    "L = [(i, j) for i in S for j in S if i < j]"
   ]
  },
  {
   "cell_type": "code",
   "execution_count": 59,
   "metadata": {},
   "outputs": [
    {
     "data": {
      "text/plain": [
       "True"
      ]
     },
     "execution_count": 59,
     "metadata": {},
     "output_type": "execute_result"
    }
   ],
   "source": [
    "isAffinePlane(S, L)"
   ]
  },
  {
   "cell_type": "markdown",
   "metadata": {},
   "source": [
    "Here is the second example:"
   ]
  },
  {
   "cell_type": "code",
   "execution_count": 167,
   "metadata": {},
   "outputs": [],
   "source": [
    "S = [(i, j) for i in [1, 2, 3] for j in [1, 2, 3]]"
   ]
  },
  {
   "cell_type": "code",
   "execution_count": 174,
   "metadata": {},
   "outputs": [],
   "source": [
    "V = [[1, 0], [0, 1], [1, 1], [1, -1]]"
   ]
  },
  {
   "cell_type": "code",
   "execution_count": 169,
   "metadata": {},
   "outputs": [],
   "source": [
    "L = [[(1 + ((i + j * v[0]) % 3), 1 + ((j * v[1]) % 3)) for j in range(3)] for i in range(3) for v in V]"
   ]
  },
  {
   "cell_type": "code",
   "execution_count": 151,
   "metadata": {},
   "outputs": [
    {
     "data": {
      "text/plain": [
       "{(1, 1), (1, 2), (1, 3), (2, 1), (2, 2), (2, 3), (3, 1), (3, 2), (3, 3)}"
      ]
     },
     "execution_count": 151,
     "metadata": {},
     "output_type": "execute_result"
    }
   ],
   "source": [
    "S"
   ]
  },
  {
   "cell_type": "code",
   "execution_count": 152,
   "metadata": {},
   "outputs": [
    {
     "data": {
      "text/plain": [
       "[[(1, 1), (2, 1), (3, 1)],\n",
       " [(1, 1), (1, 2), (1, 3)],\n",
       " [(1, 1), (2, 2), (3, 3)],\n",
       " [(1, 1), (2, 3), (3, 2)],\n",
       " [(2, 1), (3, 1), (1, 1)],\n",
       " [(2, 1), (2, 2), (2, 3)],\n",
       " [(2, 1), (3, 2), (1, 3)],\n",
       " [(2, 1), (3, 3), (1, 2)],\n",
       " [(3, 1), (1, 1), (2, 1)],\n",
       " [(3, 1), (3, 2), (3, 3)],\n",
       " [(3, 1), (1, 2), (2, 3)],\n",
       " [(3, 1), (1, 3), (2, 2)]]"
      ]
     },
     "execution_count": 152,
     "metadata": {},
     "output_type": "execute_result"
    }
   ],
   "source": [
    "L"
   ]
  },
  {
   "cell_type": "code",
   "execution_count": 173,
   "metadata": {},
   "outputs": [
    {
     "data": {
      "text/plain": [
       "False"
      ]
     },
     "execution_count": 173,
     "metadata": {},
     "output_type": "execute_result"
    }
   ],
   "source": [
    "isAffinePlane(S, L)\n"
   ]
  },
  {
   "cell_type": "code",
   "execution_count": null,
   "metadata": {},
   "outputs": [],
   "source": []
  }
 ],
 "metadata": {
  "kernelspec": {
   "display_name": "Python 3",
   "language": "python",
   "name": "python3"
  },
  "language_info": {
   "codemirror_mode": {
    "name": "ipython",
    "version": 3
   },
   "file_extension": ".py",
   "mimetype": "text/x-python",
   "name": "python",
   "nbconvert_exporter": "python",
   "pygments_lexer": "ipython3",
   "version": "3.6.7"
  }
 },
 "nbformat": 4,
 "nbformat_minor": 2
}
